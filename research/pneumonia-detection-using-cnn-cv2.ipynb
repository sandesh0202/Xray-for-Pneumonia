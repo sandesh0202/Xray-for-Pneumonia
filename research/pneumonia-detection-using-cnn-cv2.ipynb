{
 "cells": [
  {
   "cell_type": "code",
   "execution_count": 1,
   "id": "1c92c73e",
   "metadata": {
    "execution": {
     "iopub.execute_input": "2023-07-02T11:46:15.053580Z",
     "iopub.status.busy": "2023-07-02T11:46:15.052894Z",
     "iopub.status.idle": "2023-07-02T11:46:24.542980Z",
     "shell.execute_reply": "2023-07-02T11:46:24.542012Z"
    },
    "papermill": {
     "duration": 9.500664,
     "end_time": "2023-07-02T11:46:24.545363",
     "exception": false,
     "start_time": "2023-07-02T11:46:15.044699",
     "status": "completed"
    },
    "tags": []
   },
   "outputs": [
    {
     "name": "stderr",
     "output_type": "stream",
     "text": [
      "/opt/conda/lib/python3.10/site-packages/tensorflow_io/python/ops/__init__.py:98: UserWarning: unable to load libtensorflow_io_plugins.so: unable to open file: libtensorflow_io_plugins.so, from paths: ['/opt/conda/lib/python3.10/site-packages/tensorflow_io/python/ops/libtensorflow_io_plugins.so']\n",
      "caused by: ['/opt/conda/lib/python3.10/site-packages/tensorflow_io/python/ops/libtensorflow_io_plugins.so: undefined symbol: _ZN3tsl6StatusC1EN10tensorflow5error4CodeESt17basic_string_viewIcSt11char_traitsIcEENS_14SourceLocationE']\n",
      "  warnings.warn(f\"unable to load libtensorflow_io_plugins.so: {e}\")\n",
      "/opt/conda/lib/python3.10/site-packages/tensorflow_io/python/ops/__init__.py:104: UserWarning: file system plugins are not loaded: unable to open file: libtensorflow_io.so, from paths: ['/opt/conda/lib/python3.10/site-packages/tensorflow_io/python/ops/libtensorflow_io.so']\n",
      "caused by: ['/opt/conda/lib/python3.10/site-packages/tensorflow_io/python/ops/libtensorflow_io.so: undefined symbol: _ZTVN10tensorflow13GcsFileSystemE']\n",
      "  warnings.warn(f\"file system plugins are not loaded: {e}\")\n"
     ]
    },
    {
     "name": "stdout",
     "output_type": "stream",
     "text": [
      "['chest-xray-pneumonia']\n"
     ]
    }
   ],
   "source": [
    "# This Python 3 environment comes with many helpful analytics libraries installed\n",
    "# It is defined by the kaggle/python docker image: https://github.com/kaggle/docker-python\n",
    "# For example, here's several helpful packages to load in \n",
    "\n",
    "import os\n",
    "import glob\n",
    "import h5py\n",
    "import shutil\n",
    "import numpy as np # linear algebra\n",
    "import pandas as pd # data processing, CSV file I/O (e.g. pd.read_csv)\n",
    "import seaborn as sns\n",
    "import matplotlib.pyplot as plt\n",
    "import matplotlib.image as mimg\n",
    "from os import listdir, makedirs, getcwd, remove\n",
    "from os.path import isfile, join, abspath, exists, isdir, expanduser\n",
    "from PIL import Image\n",
    "from pathlib import Path\n",
    "from skimage.io import imread\n",
    "from skimage.transform import resize\n",
    "from keras.models import Sequential, Model\n",
    "from keras.applications.vgg16 import VGG16, preprocess_input\n",
    "from keras.preprocessing.image import ImageDataGenerator\n",
    "from keras.utils import load_img, img_to_array\n",
    "from keras.models import Sequential\n",
    "from keras.layers import Conv2D, Dense, Dropout, Input, Flatten, SeparableConv2D\n",
    "from keras.layers import MaxPooling2D as MaxPool2D\n",
    "from keras.layers import MaxPooling2D\n",
    "from keras.layers import GlobalMaxPooling2D\n",
    "from keras.layers import BatchNormalization\n",
    "from keras.layers import Concatenate\n",
    "from keras.models import Model\n",
    "from keras.optimizers import Adam, SGD, RMSprop\n",
    "from keras.callbacks import ModelCheckpoint, Callback, EarlyStopping, ReduceLROnPlateau\n",
    "from keras.utils import to_categorical\n",
    "from sklearn.model_selection import train_test_split\n",
    "from sklearn.preprocessing import StandardScaler\n",
    "from mlxtend.plotting import plot_confusion_matrix\n",
    "from sklearn.metrics import confusion_matrix, classification_report\n",
    "import cv2\n",
    "from keras import backend as K\n",
    "color = sns.color_palette()\n",
    "%matplotlib inline\n",
    "\n",
    "# Input data files are available in the \"../input/\" directory.\n",
    "# For example, running this (by clicking run or pressing Shift+Enter) will list the files in the input directory\n",
    "print(os.listdir(\"../input\"))\n",
    "\n",
    "# Any results you write to the current directory are saved as output."
   ]
  },
  {
   "cell_type": "code",
   "execution_count": 2,
   "id": "878c5c7c",
   "metadata": {
    "execution": {
     "iopub.execute_input": "2023-07-02T11:46:24.560858Z",
     "iopub.status.busy": "2023-07-02T11:46:24.559561Z",
     "iopub.status.idle": "2023-07-02T11:46:24.567290Z",
     "shell.execute_reply": "2023-07-02T11:46:24.566275Z"
    },
    "papermill": {
     "duration": 0.017195,
     "end_time": "2023-07-02T11:46:24.569408",
     "exception": false,
     "start_time": "2023-07-02T11:46:24.552213",
     "status": "completed"
    },
    "tags": []
   },
   "outputs": [],
   "source": [
    "labels = ['PNEUMONIA', 'NORMAL']\n",
    "image_size = 150\n",
    "\n",
    "def get_training_data(data_dir):\n",
    "    data = []\n",
    "    for label in labels:\n",
    "        path = os.path.join(data_dir, label)\n",
    "        class_num = labels.index(label)\n",
    "        \n",
    "        for image in os.listdir(path):\n",
    "             try:\n",
    "                img_array = cv2.imread(os.path.join(path,image))\n",
    "    \n",
    "                resized_arr = cv2.resize(img_array, (image_size, image_size))\n",
    "                data.append([resized_arr, class_num])\n",
    "             except Exception as e:\n",
    "                print(e)\n",
    "                \n",
    "    return np.array(data)\n",
    "#, cv2.IMREAD_GRAYSCALE"
   ]
  },
  {
   "cell_type": "code",
   "execution_count": 3,
   "id": "9e78d04b",
   "metadata": {
    "_cell_guid": "b1076dfc-b9ad-4769-8c92-a6c4dae69d19",
    "_uuid": "8f2839f25d086af736a60e9eeb907d3b93b6e0e5",
    "execution": {
     "iopub.execute_input": "2023-07-02T11:46:24.583175Z",
     "iopub.status.busy": "2023-07-02T11:46:24.582883Z",
     "iopub.status.idle": "2023-07-02T11:48:20.992932Z",
     "shell.execute_reply": "2023-07-02T11:48:20.991608Z"
    },
    "papermill": {
     "duration": 116.419752,
     "end_time": "2023-07-02T11:48:20.995351",
     "exception": false,
     "start_time": "2023-07-02T11:46:24.575599",
     "status": "completed"
    },
    "tags": []
   },
   "outputs": [
    {
     "name": "stdout",
     "output_type": "stream",
     "text": [
      "OpenCV(4.7.0) /io/opencv/modules/imgproc/src/resize.cpp:4062: error: (-215:Assertion failed) !ssize.empty() in function 'resize'\n",
      "\n",
      "OpenCV(4.7.0) /io/opencv/modules/imgproc/src/resize.cpp:4062: error: (-215:Assertion failed) !ssize.empty() in function 'resize'\n",
      "\n"
     ]
    },
    {
     "name": "stderr",
     "output_type": "stream",
     "text": [
      "/tmp/ipykernel_24/3737204920.py:19: VisibleDeprecationWarning: Creating an ndarray from ragged nested sequences (which is a list-or-tuple of lists-or-tuples-or ndarrays with different lengths or shapes) is deprecated. If you meant to do this, you must specify 'dtype=object' when creating the ndarray.\n",
      "  return np.array(data)\n"
     ]
    },
    {
     "name": "stdout",
     "output_type": "stream",
     "text": [
      "OpenCV(4.7.0) /io/opencv/modules/imgproc/src/resize.cpp:4062: error: (-215:Assertion failed) !ssize.empty() in function 'resize'\n",
      "\n",
      "OpenCV(4.7.0) /io/opencv/modules/imgproc/src/resize.cpp:4062: error: (-215:Assertion failed) !ssize.empty() in function 'resize'\n",
      "\n"
     ]
    }
   ],
   "source": [
    "train = get_training_data('../input/chest-xray-pneumonia/chest_xray/chest_xray/train')\n",
    "test = get_training_data('../input/chest-xray-pneumonia/chest_xray/chest_xray/test')\n",
    "val = get_training_data('../input/chest-xray-pneumonia/chest_xray/chest_xray/val')"
   ]
  },
  {
   "cell_type": "code",
   "execution_count": 4,
   "id": "67fe5834",
   "metadata": {
    "execution": {
     "iopub.execute_input": "2023-07-02T11:48:21.011526Z",
     "iopub.status.busy": "2023-07-02T11:48:21.011196Z",
     "iopub.status.idle": "2023-07-02T11:48:21.282775Z",
     "shell.execute_reply": "2023-07-02T11:48:21.281609Z"
    },
    "papermill": {
     "duration": 0.282246,
     "end_time": "2023-07-02T11:48:21.285015",
     "exception": false,
     "start_time": "2023-07-02T11:48:21.002769",
     "status": "completed"
    },
    "tags": []
   },
   "outputs": [
    {
     "data": {
      "text/plain": [
       "<Axes: ylabel='count'>"
      ]
     },
     "execution_count": 4,
     "metadata": {},
     "output_type": "execute_result"
    },
    {
     "data": {
      "image/png": "[encoded data removed]",
      "text/plain": [
       "<Figure size 640x480 with 1 Axes>"
      ]
     },
     "metadata": {},
     "output_type": "display_data"
    }
   ],
   "source": [
    "class_labels = train[:, 1]\n",
    "\n",
    "# Convert the class labels to a list\n",
    "class_labels_list = class_labels.tolist()\n",
    "\n",
    "# Plot the countplot\n",
    "sns.countplot(x=class_labels_list)"
   ]
  },
  {
   "cell_type": "code",
   "execution_count": 5,
   "id": "2e0c8d69",
   "metadata": {
    "execution": {
     "iopub.execute_input": "2023-07-02T11:48:21.302111Z",
     "iopub.status.busy": "2023-07-02T11:48:21.301282Z",
     "iopub.status.idle": "2023-07-02T11:48:21.316890Z",
     "shell.execute_reply": "2023-07-02T11:48:21.315954Z"
    },
    "papermill": {
     "duration": 0.026405,
     "end_time": "2023-07-02T11:48:21.319030",
     "exception": false,
     "start_time": "2023-07-02T11:48:21.292625",
     "status": "completed"
    },
    "tags": []
   },
   "outputs": [],
   "source": [
    "X_train = []\n",
    "y_train = []\n",
    "\n",
    "X_test = []\n",
    "y_test = []\n",
    "\n",
    "X_val = []\n",
    "y_val = []\n",
    "\n",
    "for array, label in train:\n",
    "    X_train.append(array)\n",
    "    y_train.append(label)\n",
    "    \n",
    "for array, label in test:\n",
    "    X_test.append(array)\n",
    "    y_test.append(label)\n",
    "    \n",
    "for array, label in val:\n",
    "    X_val.append(array)\n",
    "    y_val.append(label)"
   ]
  },
  {
   "cell_type": "code",
   "execution_count": 6,
   "id": "baae684d",
   "metadata": {
    "execution": {
     "iopub.execute_input": "2023-07-02T11:48:21.339842Z",
     "iopub.status.busy": "2023-07-02T11:48:21.338227Z",
     "iopub.status.idle": "2023-07-02T11:48:22.418070Z",
     "shell.execute_reply": "2023-07-02T11:48:22.417095Z"
    },
    "papermill": {
     "duration": 1.090456,
     "end_time": "2023-07-02T11:48:22.420425",
     "exception": false,
     "start_time": "2023-07-02T11:48:21.329969",
     "status": "completed"
    },
    "tags": []
   },
   "outputs": [],
   "source": [
    "X_train = np.array(X_train) / 255\n",
    "X_test = np.array(X_test) / 255\n",
    "X_val = np.array(X_val) / 255"
   ]
  },
  {
   "cell_type": "code",
   "execution_count": 7,
   "id": "450da662",
   "metadata": {
    "execution": {
     "iopub.execute_input": "2023-07-02T11:48:22.436329Z",
     "iopub.status.busy": "2023-07-02T11:48:22.436030Z",
     "iopub.status.idle": "2023-07-02T11:48:22.442566Z",
     "shell.execute_reply": "2023-07-02T11:48:22.441515Z"
    },
    "papermill": {
     "duration": 0.016902,
     "end_time": "2023-07-02T11:48:22.444895",
     "exception": false,
     "start_time": "2023-07-02T11:48:22.427993",
     "status": "completed"
    },
    "tags": []
   },
   "outputs": [],
   "source": [
    "X_train = X_train.reshape(-1, image_size, image_size, 3)\n",
    "y_train = np.array(y_train)\n",
    "\n",
    "X_test = X_test.reshape(-1, image_size, image_size, 3)\n",
    "y_test = np.array(y_test)\n",
    "\n",
    "X_val = X_val.reshape(-1, image_size, image_size, 3)\n",
    "y_val = np.array(y_val)"
   ]
  },
  {
   "cell_type": "code",
   "execution_count": 8,
   "id": "f36261bc",
   "metadata": {
    "execution": {
     "iopub.execute_input": "2023-07-02T11:48:22.459803Z",
     "iopub.status.busy": "2023-07-02T11:48:22.459542Z",
     "iopub.status.idle": "2023-07-02T11:48:22.463883Z",
     "shell.execute_reply": "2023-07-02T11:48:22.462984Z"
    },
    "papermill": {
     "duration": 0.01407,
     "end_time": "2023-07-02T11:48:22.465929",
     "exception": false,
     "start_time": "2023-07-02T11:48:22.451859",
     "status": "completed"
    },
    "tags": []
   },
   "outputs": [],
   "source": [
    "y_train = y_train.reshape(-1, 1)\n",
    "y_test = y_test.reshape(-1, 1)\n",
    "y_val = y_val.reshape(-1, 1)"
   ]
  },
  {
   "cell_type": "code",
   "execution_count": 9,
   "id": "fac95768",
   "metadata": {
    "execution": {
     "iopub.execute_input": "2023-07-02T11:48:22.480807Z",
     "iopub.status.busy": "2023-07-02T11:48:22.480553Z",
     "iopub.status.idle": "2023-07-02T11:48:22.486052Z",
     "shell.execute_reply": "2023-07-02T11:48:22.485192Z"
    },
    "papermill": {
     "duration": 0.0154,
     "end_time": "2023-07-02T11:48:22.488191",
     "exception": false,
     "start_time": "2023-07-02T11:48:22.472791",
     "status": "completed"
    },
    "tags": []
   },
   "outputs": [],
   "source": [
    "'''train_aug = ImageDataGenerator(\n",
    "    width_shift_range=0.1,\n",
    "    height_shift_range=0.1,\n",
    "    rotation_range=30,\n",
    "    horizontal_flip=True,\n",
    "    vertical_flip=False,\n",
    "    #shear_range=0.1,\n",
    "    zoom_range=0.2\n",
    ")\n",
    "'''\n",
    "train_aug = ImageDataGenerator(\n",
    "        featurewise_center=False,  # set input mean to 0 over the dataset\n",
    "        samplewise_center=False,  # set each sample mean to 0\n",
    "        featurewise_std_normalization=False,  # divide inputs by std of the dataset\n",
    "        samplewise_std_normalization=False,  # divide each input by its std\n",
    "        zca_whitening=False,  # apply ZCA whitening\n",
    "        rotation_range = 30,  # randomly rotate images in the range (degrees, 0 to 180)\n",
    "        zoom_range = 0.2, # Randomly zoom image \n",
    "        width_shift_range=0.1,  # randomly shift images horizontally (fraction of total width)\n",
    "        height_shift_range=0.1,  # randomly shift images vertically (fraction of total height)\n",
    "        horizontal_flip = True,  # randomly flip images\n",
    "        vertical_flip=False)  # randomly flip images"
   ]
  },
  {
   "cell_type": "code",
   "execution_count": 10,
   "id": "02444385",
   "metadata": {
    "execution": {
     "iopub.execute_input": "2023-07-02T11:48:22.503029Z",
     "iopub.status.busy": "2023-07-02T11:48:22.502707Z",
     "iopub.status.idle": "2023-07-02T11:48:23.625584Z",
     "shell.execute_reply": "2023-07-02T11:48:23.624533Z"
    },
    "papermill": {
     "duration": 1.133878,
     "end_time": "2023-07-02T11:48:23.628934",
     "exception": false,
     "start_time": "2023-07-02T11:48:22.495056",
     "status": "completed"
    },
    "tags": []
   },
   "outputs": [],
   "source": [
    "train_aug.fit(X_train)"
   ]
  },
  {
   "cell_type": "code",
   "execution_count": 11,
   "id": "f3eb59ba",
   "metadata": {
    "execution": {
     "iopub.execute_input": "2023-07-02T11:48:23.652323Z",
     "iopub.status.busy": "2023-07-02T11:48:23.651888Z",
     "iopub.status.idle": "2023-07-02T11:48:26.732473Z",
     "shell.execute_reply": "2023-07-02T11:48:26.731415Z"
    },
    "papermill": {
     "duration": 3.095546,
     "end_time": "2023-07-02T11:48:26.734903",
     "exception": false,
     "start_time": "2023-07-02T11:48:23.639357",
     "status": "completed"
    },
    "tags": []
   },
   "outputs": [],
   "source": [
    "#Accuracy of the model is -  91.82692170143127 % and 92.147\n",
    "model = Sequential()\n",
    "model.add(Conv2D(32 , (3,3) , strides = 1 , padding = 'same' , activation = 'relu' , input_shape = (image_size,image_size,3)))\n",
    "model.add(BatchNormalization())\n",
    "model.add(MaxPool2D((2,2) , strides = 2 , padding = 'same'))\n",
    "model.add(Conv2D(64 , (3,3) , strides = 1 , padding = 'same' , activation = 'relu'))\n",
    "model.add(Dropout(0.1))\n",
    "model.add(BatchNormalization())\n",
    "model.add(MaxPool2D((2,2) , strides = 2 , padding = 'same'))\n",
    "model.add(Conv2D(64 , (3,3) , strides = 1 , padding = 'same' , activation = 'relu'))\n",
    "model.add(BatchNormalization())\n",
    "model.add(MaxPool2D((2,2) , strides = 2 , padding = 'same'))\n",
    "model.add(Conv2D(128 , (3,3) , strides = 1 , padding = 'same' , activation = 'relu'))\n",
    "model.add(Dropout(0.2))\n",
    "model.add(BatchNormalization())\n",
    "model.add(MaxPool2D((2,2) , strides = 2 , padding = 'same'))\n",
    "model.add(Conv2D(256 , (3,3) , strides = 1 , padding = 'same' , activation = 'relu'))\n",
    "model.add(Dropout(0.2))\n",
    "model.add(BatchNormalization())\n",
    "model.add(MaxPool2D((2,2) , strides = 2 , padding = 'same'))\n",
    "model.add(Flatten())\n",
    "model.add(Dense(units = 128 , activation = 'relu'))\n",
    "model.add(Dropout(0.2))\n",
    "model.add(Dense(units = 1 , activation = 'sigmoid'))\n",
    "model.compile(optimizer = \"adam\" , loss = 'binary_crossentropy' , metrics = ['accuracy'])"
   ]
  },
  {
   "cell_type": "code",
   "execution_count": 12,
   "id": "f25db1a1",
   "metadata": {
    "execution": {
     "iopub.execute_input": "2023-07-02T11:48:26.750763Z",
     "iopub.status.busy": "2023-07-02T11:48:26.750454Z",
     "iopub.status.idle": "2023-07-02T11:48:26.758150Z",
     "shell.execute_reply": "2023-07-02T11:48:26.757007Z"
    },
    "papermill": {
     "duration": 0.017934,
     "end_time": "2023-07-02T11:48:26.760185",
     "exception": false,
     "start_time": "2023-07-02T11:48:26.742251",
     "status": "completed"
    },
    "tags": []
   },
   "outputs": [
    {
     "data": {
      "text/plain": [
       "\"model = Sequential()\\n\\nmodel.add(Conv2D(64, (3,3),strides = 1, padding='same', activation='relu',input_shape=(image_size, image_size,3)))\\nmodel.add(BatchNormalization()),\\nmodel.add(MaxPooling2D((2,2),strides=(2,2))),\\n    \\nmodel.add(Conv2D(128, (3,3),strides = 1, padding='same', activation='relu')),\\nmodel.add(BatchNormalization()),\\nmodel.add(MaxPooling2D((2,2),strides=2)),\\nmodel.add(Dropout(0.2)),\\n    \\nmodel.add(Conv2D(256, (3,3),strides = 1, padding='same', activation='relu')),\\nmodel.add(Conv2D(256, (3,3),strides = 1, padding='same', activation='relu')),\\nmodel.add(BatchNormalization()),\\nmodel.add(MaxPooling2D((2,2),strides=2)),\\nmodel.add(Dropout(0.2)),\\n    \\nmodel.add(Conv2D(256, (3,3),strides = 1, padding='same', activation='relu')),\\nmodel.add(Conv2D(256, (3,3),strides = 1, padding='same', activation='relu')),\\nmodel.add(BatchNormalization()),\\nmodel.add(MaxPooling2D((2,2),strides=2)),\\nmodel.add(Dropout(0.2)),\\n    \\nmodel.add(Conv2D(512, (3,3),strides = 1, padding='same', activation='relu')),\\nmodel.add(Conv2D(512, (3,3),strides = 1, padding='same', activation='relu')),\\nmodel.add(BatchNormalization()),\\nmodel.add(MaxPooling2D((2,2),strides=2)),\\n    \\nmodel.add(Flatten()),\\nmodel.add(Dense(4096, activation='relu')),\\nmodel.add(BatchNormalization()),\\nmodel.add(Dropout(0.5)),\\n\\nmodel.add(Dense(2048, activation='relu')),\\nmodel.add(BatchNormalization()),\\nmodel.add(Dropout(0.5)),\\n\\nmodel.add(Dense(256, activation='relu')),\\nmodel.add(BatchNormalization()),\\n\\nmodel.add(Dense(2, activation='softmax'))\""
      ]
     },
     "execution_count": 12,
     "metadata": {},
     "output_type": "execute_result"
    }
   ],
   "source": [
    "'''model = Sequential()\n",
    "\n",
    "model.add(Conv2D(64, (3,3),strides = 1, padding='same', activation='relu',input_shape=(image_size, image_size,3)))\n",
    "model.add(BatchNormalization()),\n",
    "model.add(MaxPooling2D((2,2),strides=(2,2))),\n",
    "    \n",
    "model.add(Conv2D(128, (3,3),strides = 1, padding='same', activation='relu')),\n",
    "model.add(BatchNormalization()),\n",
    "model.add(MaxPooling2D((2,2),strides=2)),\n",
    "model.add(Dropout(0.2)),\n",
    "    \n",
    "model.add(Conv2D(256, (3,3),strides = 1, padding='same', activation='relu')),\n",
    "model.add(Conv2D(256, (3,3),strides = 1, padding='same', activation='relu')),\n",
    "model.add(BatchNormalization()),\n",
    "model.add(MaxPooling2D((2,2),strides=2)),\n",
    "model.add(Dropout(0.2)),\n",
    "    \n",
    "model.add(Conv2D(256, (3,3),strides = 1, padding='same', activation='relu')),\n",
    "model.add(Conv2D(256, (3,3),strides = 1, padding='same', activation='relu')),\n",
    "model.add(BatchNormalization()),\n",
    "model.add(MaxPooling2D((2,2),strides=2)),\n",
    "model.add(Dropout(0.2)),\n",
    "    \n",
    "model.add(Conv2D(512, (3,3),strides = 1, padding='same', activation='relu')),\n",
    "model.add(Conv2D(512, (3,3),strides = 1, padding='same', activation='relu')),\n",
    "model.add(BatchNormalization()),\n",
    "model.add(MaxPooling2D((2,2),strides=2)),\n",
    "    \n",
    "model.add(Flatten()),\n",
    "model.add(Dense(4096, activation='relu')),\n",
    "model.add(BatchNormalization()),\n",
    "model.add(Dropout(0.5)),\n",
    "\n",
    "model.add(Dense(2048, activation='relu')),\n",
    "model.add(BatchNormalization()),\n",
    "model.add(Dropout(0.5)),\n",
    "\n",
    "model.add(Dense(256, activation='relu')),\n",
    "model.add(BatchNormalization()),\n",
    "\n",
    "model.add(Dense(2, activation='softmax'))'''"
   ]
  },
  {
   "cell_type": "code",
   "execution_count": 13,
   "id": "3fae4d44",
   "metadata": {
    "_kg_hide-output": false,
    "execution": {
     "iopub.execute_input": "2023-07-02T11:48:26.775928Z",
     "iopub.status.busy": "2023-07-02T11:48:26.775650Z",
     "iopub.status.idle": "2023-07-02T11:48:26.779367Z",
     "shell.execute_reply": "2023-07-02T11:48:26.778425Z"
    },
    "papermill": {
     "duration": 0.013755,
     "end_time": "2023-07-02T11:48:26.781312",
     "exception": false,
     "start_time": "2023-07-02T11:48:26.767557",
     "status": "completed"
    },
    "tags": []
   },
   "outputs": [],
   "source": [
    "#model.summary()"
   ]
  },
  {
   "cell_type": "code",
   "execution_count": 14,
   "id": "fbc87399",
   "metadata": {
    "execution": {
     "iopub.execute_input": "2023-07-02T11:48:26.797264Z",
     "iopub.status.busy": "2023-07-02T11:48:26.796566Z",
     "iopub.status.idle": "2023-07-02T11:48:26.800733Z",
     "shell.execute_reply": "2023-07-02T11:48:26.799720Z"
    },
    "papermill": {
     "duration": 0.014636,
     "end_time": "2023-07-02T11:48:26.803029",
     "exception": false,
     "start_time": "2023-07-02T11:48:26.788393",
     "status": "completed"
    },
    "tags": []
   },
   "outputs": [],
   "source": [
    "#model.compile(optimizer='adam',loss='binary_crossentropy',metrics=['accuracy'])"
   ]
  },
  {
   "cell_type": "code",
   "execution_count": 15,
   "id": "57aa23c9",
   "metadata": {
    "execution": {
     "iopub.execute_input": "2023-07-02T11:48:26.818360Z",
     "iopub.status.busy": "2023-07-02T11:48:26.817853Z",
     "iopub.status.idle": "2023-07-02T11:48:26.823412Z",
     "shell.execute_reply": "2023-07-02T11:48:26.822461Z"
    },
    "papermill": {
     "duration": 0.015344,
     "end_time": "2023-07-02T11:48:26.825425",
     "exception": false,
     "start_time": "2023-07-02T11:48:26.810081",
     "status": "completed"
    },
    "tags": []
   },
   "outputs": [],
   "source": [
    "learning_rate_reduction = ReduceLROnPlateau(monitor='val_accuracy', patience = 2, verbose=1,factor=0.3, min_lr=0.000001)\n",
    "#,callbacks = [learning_rate_reduction]"
   ]
  },
  {
   "cell_type": "code",
   "execution_count": 16,
   "id": "22a65431",
   "metadata": {
    "execution": {
     "iopub.execute_input": "2023-07-02T11:48:26.841152Z",
     "iopub.status.busy": "2023-07-02T11:48:26.840722Z",
     "iopub.status.idle": "2023-07-02T11:54:57.299237Z",
     "shell.execute_reply": "2023-07-02T11:54:57.298244Z"
    },
    "papermill": {
     "duration": 390.468745,
     "end_time": "2023-07-02T11:54:57.301675",
     "exception": false,
     "start_time": "2023-07-02T11:48:26.832930",
     "status": "completed"
    },
    "tags": []
   },
   "outputs": [
    {
     "name": "stdout",
     "output_type": "stream",
     "text": [
      "Epoch 1/12\n"
     ]
    },
    {
     "name": "stderr",
     "output_type": "stream",
     "text": [
      "2023-07-02 11:48:29.334234: E tensorflow/core/grappler/optimizers/meta_optimizer.cc:954] layout failed: INVALID_ARGUMENT: Size of values 0 does not match size of permutation 4 @ fanin shape insequential/dropout/dropout/SelectV2-2-TransposeNHWCToNCHW-LayoutOptimizer\n"
     ]
    },
    {
     "name": "stdout",
     "output_type": "stream",
     "text": [
      "163/163 [==============================] - 38s 167ms/step - loss: 0.2580 - accuracy: 0.8340 - val_loss: 9.6817 - val_accuracy: 0.5000 - lr: 0.0010\n",
      "Epoch 2/12\n",
      "163/163 [==============================] - 27s 165ms/step - loss: 0.1376 - accuracy: 0.9049 - val_loss: 9.4083 - val_accuracy: 0.5000 - lr: 0.0010\n",
      "Epoch 3/12\n",
      "163/163 [==============================] - ETA: 0s - loss: 0.1163 - accuracy: 0.9206\n",
      "Epoch 3: ReduceLROnPlateau reducing learning rate to 0.0003000000142492354.\n",
      "163/163 [==============================] - 27s 165ms/step - loss: 0.1163 - accuracy: 0.9206 - val_loss: 6.9353 - val_accuracy: 0.5000 - lr: 0.0010\n",
      "Epoch 4/12\n",
      "163/163 [==============================] - 26s 161ms/step - loss: 0.0903 - accuracy: 0.9446 - val_loss: 2.2225 - val_accuracy: 0.6250 - lr: 3.0000e-04\n",
      "Epoch 5/12\n",
      "163/163 [==============================] - 26s 159ms/step - loss: 0.0884 - accuracy: 0.9433 - val_loss: 2.7106 - val_accuracy: 0.5000 - lr: 3.0000e-04\n",
      "Epoch 6/12\n",
      "163/163 [==============================] - ETA: 0s - loss: 0.0861 - accuracy: 0.9480\n",
      "Epoch 6: ReduceLROnPlateau reducing learning rate to 9.000000427477062e-05.\n",
      "163/163 [==============================] - 26s 159ms/step - loss: 0.0861 - accuracy: 0.9480 - val_loss: 1.9495 - val_accuracy: 0.5000 - lr: 3.0000e-04\n",
      "Epoch 7/12\n",
      "163/163 [==============================] - 25s 156ms/step - loss: 0.0737 - accuracy: 0.9549 - val_loss: 0.9744 - val_accuracy: 0.6250 - lr: 9.0000e-05\n",
      "Epoch 8/12\n",
      "163/163 [==============================] - ETA: 0s - loss: 0.0729 - accuracy: 0.9567\n",
      "Epoch 8: ReduceLROnPlateau reducing learning rate to 2.700000040931627e-05.\n",
      "163/163 [==============================] - 26s 160ms/step - loss: 0.0729 - accuracy: 0.9567 - val_loss: 1.3580 - val_accuracy: 0.6250 - lr: 9.0000e-05\n",
      "Epoch 9/12\n",
      "163/163 [==============================] - 26s 157ms/step - loss: 0.0648 - accuracy: 0.9594 - val_loss: 0.3074 - val_accuracy: 0.8125 - lr: 2.7000e-05\n",
      "Epoch 10/12\n",
      "163/163 [==============================] - 26s 157ms/step - loss: 0.0627 - accuracy: 0.9605 - val_loss: 1.3769 - val_accuracy: 0.5625 - lr: 2.7000e-05\n",
      "Epoch 11/12\n",
      "163/163 [==============================] - ETA: 0s - loss: 0.0635 - accuracy: 0.9613\n",
      "Epoch 11: ReduceLROnPlateau reducing learning rate to 8.100000013655517e-06.\n",
      "163/163 [==============================] - 26s 161ms/step - loss: 0.0635 - accuracy: 0.9613 - val_loss: 0.7340 - val_accuracy: 0.7500 - lr: 2.7000e-05\n",
      "Epoch 12/12\n",
      "163/163 [==============================] - 26s 159ms/step - loss: 0.0625 - accuracy: 0.9624 - val_loss: 0.5834 - val_accuracy: 0.6875 - lr: 8.1000e-06\n"
     ]
    }
   ],
   "source": [
    "class_weights = {0: 0.4, 1: 1.0}\n",
    "history = model.fit(train_aug.flow(X_train,y_train,batch_size=32), epochs=12, \n",
    "                    validation_data=(train_aug.flow(X_val,y_val)),\n",
    "                    class_weight=class_weights,\n",
    "                    callbacks = [learning_rate_reduction])"
   ]
  },
  {
   "cell_type": "code",
   "execution_count": 17,
   "id": "203963aa",
   "metadata": {
    "execution": {
     "iopub.execute_input": "2023-07-02T11:54:57.609781Z",
     "iopub.status.busy": "2023-07-02T11:54:57.609431Z",
     "iopub.status.idle": "2023-07-02T11:54:59.198911Z",
     "shell.execute_reply": "2023-07-02T11:54:59.197789Z"
    },
    "papermill": {
     "duration": 1.744398,
     "end_time": "2023-07-02T11:54:59.200973",
     "exception": false,
     "start_time": "2023-07-02T11:54:57.456575",
     "status": "completed"
    },
    "tags": []
   },
   "outputs": [
    {
     "name": "stdout",
     "output_type": "stream",
     "text": [
      "20/20 [==============================] - 0s 9ms/step - loss: 0.2526 - accuracy: 0.9006\n",
      "Loss of the model is -  0.2525634169578552\n",
      "20/20 [==============================] - 0s 9ms/step - loss: 0.2526 - accuracy: 0.9006\n",
      "Accuracy of the model is -  90.06410241127014 %\n"
     ]
    }
   ],
   "source": [
    "print(\"Loss of the model is - \" , model.evaluate(X_test,y_test)[0])\n",
    "print(\"Accuracy of the model is - \" , model.evaluate(X_test,y_test)[1]*100 , \"%\")"
   ]
  },
  {
   "cell_type": "code",
   "execution_count": 18,
   "id": "bea4cfa6",
   "metadata": {
    "execution": {
     "iopub.execute_input": "2023-07-02T11:54:59.513828Z",
     "iopub.status.busy": "2023-07-02T11:54:59.510159Z",
     "iopub.status.idle": "2023-07-02T11:54:59.629574Z",
     "shell.execute_reply": "2023-07-02T11:54:59.628629Z"
    },
    "papermill": {
     "duration": 0.274836,
     "end_time": "2023-07-02T11:54:59.631976",
     "exception": false,
     "start_time": "2023-07-02T11:54:59.357140",
     "status": "completed"
    },
    "tags": []
   },
   "outputs": [],
   "source": [
    "# After training\n",
    "model.save('/kaggle/working/my_model.h5')"
   ]
  },
  {
   "cell_type": "code",
   "execution_count": 19,
   "id": "756f67cd",
   "metadata": {
    "execution": {
     "iopub.execute_input": "2023-07-02T11:54:59.939161Z",
     "iopub.status.busy": "2023-07-02T11:54:59.938476Z",
     "iopub.status.idle": "2023-07-02T11:54:59.948049Z",
     "shell.execute_reply": "2023-07-02T11:54:59.947216Z"
    },
    "papermill": {
     "duration": 0.165339,
     "end_time": "2023-07-02T11:54:59.950440",
     "exception": false,
     "start_time": "2023-07-02T11:54:59.785101",
     "status": "completed"
    },
    "tags": []
   },
   "outputs": [
    {
     "data": {
      "text/html": [
       "<a href='/kaggle/working/my_model.h5' target='_blank'>/kaggle/working/my_model.h5</a><br>"
      ],
      "text/plain": [
       "/kaggle/working/my_model.h5"
      ]
     },
     "execution_count": 19,
     "metadata": {},
     "output_type": "execute_result"
    }
   ],
   "source": [
    "from IPython.display import FileLink\n",
    "\n",
    "# Specify the file path of the saved model\n",
    "file_path = '/kaggle/working/my_model.h5'\n",
    "\n",
    "# Create a download link\n",
    "link = FileLink(file_path)\n",
    "\n",
    "# Display the download link\n",
    "link"
   ]
  },
  {
   "cell_type": "code",
   "execution_count": 20,
   "id": "5ebda602",
   "metadata": {
    "execution": {
     "iopub.execute_input": "2023-07-02T11:55:00.307216Z",
     "iopub.status.busy": "2023-07-02T11:55:00.306839Z",
     "iopub.status.idle": "2023-07-02T11:55:00.885376Z",
     "shell.execute_reply": "2023-07-02T11:55:00.882868Z"
    },
    "papermill": {
     "duration": 0.739752,
     "end_time": "2023-07-02T11:55:00.887801",
     "exception": false,
     "start_time": "2023-07-02T11:55:00.148049",
     "status": "completed"
    },
    "tags": []
   },
   "outputs": [
    {
     "data": {
      "image/png": "[encoded data removed]",
      "text/plain": [
       "<Figure size 2000x1000 with 2 Axes>"
      ]
     },
     "metadata": {},
     "output_type": "display_data"
    }
   ],
   "source": [
    "epochs = [i for i in range(12)]\n",
    "fig , ax = plt.subplots(1,2)\n",
    "train_acc = history.history['accuracy']\n",
    "train_loss = history.history['loss']\n",
    "val_acc = history.history['val_accuracy']\n",
    "val_loss = history.history['val_loss']\n",
    "fig.set_size_inches(20,10)\n",
    "\n",
    "ax[0].plot(epochs , train_acc , 'go-' , label = 'Training Accuracy')\n",
    "ax[0].plot(epochs , val_acc , 'ro-' , label = 'Validation Accuracy')\n",
    "ax[0].set_title('Training & Validation Accuracy')\n",
    "ax[0].legend()\n",
    "ax[0].set_xlabel(\"Epochs\")\n",
    "ax[0].set_ylabel(\"Accuracy\")\n",
    "\n",
    "ax[1].plot(epochs , train_loss , 'g-o' , label = 'Training Loss')\n",
    "ax[1].plot(epochs , val_loss , 'r-o' , label = 'Validation Loss')\n",
    "ax[1].set_title('Testing Accuracy & Loss')\n",
    "ax[1].legend()\n",
    "ax[1].set_xlabel(\"Epochs\")\n",
    "ax[1].set_ylabel(\"Training & Validation Loss\")\n",
    "plt.show()"
   ]
  },
  {
   "cell_type": "code",
   "execution_count": 21,
   "id": "fa6071c9",
   "metadata": {
    "execution": {
     "iopub.execute_input": "2023-07-02T11:55:01.195832Z",
     "iopub.status.busy": "2023-07-02T11:55:01.195473Z",
     "iopub.status.idle": "2023-07-02T11:55:01.956870Z",
     "shell.execute_reply": "2023-07-02T11:55:01.955859Z"
    },
    "papermill": {
     "duration": 0.9182,
     "end_time": "2023-07-02T11:55:01.958941",
     "exception": false,
     "start_time": "2023-07-02T11:55:01.040741",
     "status": "completed"
    },
    "tags": []
   },
   "outputs": [
    {
     "name": "stdout",
     "output_type": "stream",
     "text": [
      "20/20 [==============================] - 0s 7ms/step\n"
     ]
    },
    {
     "data": {
      "text/plain": [
       "array([4.18792903e-01, 5.06963916e-02, 2.31155619e-01, 3.85416934e-04,\n",
       "       4.44898754e-03, 4.52763587e-01, 5.42657450e-02, 4.60051075e-02,\n",
       "       1.24214076e-01, 6.09008789e-01, 8.37023795e-01, 9.23228681e-01,\n",
       "       9.37009081e-02, 3.22433212e-03, 1.02519644e-02], dtype=float32)"
      ]
     },
     "execution_count": 21,
     "metadata": {},
     "output_type": "execute_result"
    }
   ],
   "source": [
    "predictions = model.predict(X_test)\n",
    "predictions = predictions.reshape(1,-1)[0]\n",
    "predictions[:15]"
   ]
  },
  {
   "cell_type": "code",
   "execution_count": 22,
   "id": "7ed7c94f",
   "metadata": {
    "execution": {
     "iopub.execute_input": "2023-07-02T11:55:02.274569Z",
     "iopub.status.busy": "2023-07-02T11:55:02.274218Z",
     "iopub.status.idle": "2023-07-02T11:55:02.278768Z",
     "shell.execute_reply": "2023-07-02T11:55:02.277742Z"
    },
    "papermill": {
     "duration": 0.165471,
     "end_time": "2023-07-02T11:55:02.281312",
     "exception": false,
     "start_time": "2023-07-02T11:55:02.115841",
     "status": "completed"
    },
    "tags": []
   },
   "outputs": [],
   "source": [
    "#print(classification_report(y_test, predictions, target_names = ['Pneumonia (Class 0)','Normal (Class 1)']))"
   ]
  }
 ],
 "metadata": {
  "kernelspec": {
   "display_name": "Python 3",
   "language": "python",
   "name": "python3"
  },
  "language_info": {
   "codemirror_mode": {
    "name": "ipython",
    "version": 3
   },
   "file_extension": ".py",
   "mimetype": "text/x-python",
   "name": "python",
   "nbconvert_exporter": "python",
   "pygments_lexer": "ipython3",
   "version": "3.10.10"
  },
  "papermill": {
   "default_parameters": {},
   "duration": 540.924114,
   "end_time": "2023-07-02T11:55:05.582498",
   "environment_variables": {},
   "exception": null,
   "input_path": "__notebook__.ipynb",
   "output_path": "__notebook__.ipynb",
   "parameters": {},
   "start_time": "2023-07-02T11:46:04.658384",
   "version": "2.4.0"
  }
 },
 "nbformat": 4,
 "nbformat_minor": 5
}
