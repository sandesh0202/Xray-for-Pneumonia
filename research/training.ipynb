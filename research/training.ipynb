{
 "cells": [
  {
   "cell_type": "code",
   "execution_count": 1,
   "metadata": {},
   "outputs": [
    {
     "data": {
      "text/plain": [
       "'c:\\\\Programs\\\\xray\\\\research'"
      ]
     },
     "execution_count": 1,
     "metadata": {},
     "output_type": "execute_result"
    }
   ],
   "source": [
    "import os\n",
    "%pwd"
   ]
  },
  {
   "cell_type": "code",
   "execution_count": 2,
   "metadata": {},
   "outputs": [],
   "source": [
    "os.chdir(\"../\")"
   ]
  },
  {
   "cell_type": "code",
   "execution_count": 3,
   "metadata": {},
   "outputs": [
    {
     "data": {
      "text/plain": [
       "'c:\\\\Programs\\\\xray'"
      ]
     },
     "execution_count": 3,
     "metadata": {},
     "output_type": "execute_result"
    }
   ],
   "source": [
    "%pwd"
   ]
  },
  {
   "cell_type": "code",
   "execution_count": 18,
   "metadata": {},
   "outputs": [],
   "source": [
    "from dataclasses import dataclass\n",
    "from pathlib import Path"
   ]
  },
  {
   "cell_type": "code",
   "execution_count": 19,
   "metadata": {},
   "outputs": [],
   "source": [
    "@dataclass(frozen=True)\n",
    "class TrainingConfig:\n",
    "    root_dir: Path\n",
    "    trained_model_path: Path\n",
    "    updated_base_model_path: Path\n",
    "    training_data: Path\n",
    "    params_epochs: int\n",
    "    params_batch_size: int\n",
    "    params_is_augmentation: bool\n",
    "    params_image_size: int\n",
    "    params_label: list\n",
    "    params_class_weights: dict"
   ]
  },
  {
   "cell_type": "code",
   "execution_count": 20,
   "metadata": {},
   "outputs": [],
   "source": [
    "from xray.constants import *\n",
    "from xray.utils.common import read_yaml, create_directories\n",
    "from xray.entity.config_entity import (PrepareCallbackConfig)"
   ]
  },
  {
   "cell_type": "code",
   "execution_count": 21,
   "metadata": {},
   "outputs": [],
   "source": [
    "class ConfigurationManager:\n",
    "    def __init__(\n",
    "        self,\n",
    "        config_filepath = CONFIG_FILE_PATH,\n",
    "        params_filepath = PARAMS_FILE_PATH):\n",
    "        \n",
    "        self.config = read_yaml(config_filepath)\n",
    "        self.params = read_yaml(params_filepath)\n",
    "        \n",
    "        create_directories([self.config.artifacts_root])\n",
    "        \n",
    "    \n",
    "    def get_prepare_callback_config(self) -> PrepareCallbackConfig:\n",
    "        config = self.config.prepare_callbacks\n",
    "        model_ckpt_dir = os.path.dirname(config.checkpoint_model_filepath)\n",
    "        create_directories([\n",
    "            Path(model_ckpt_dir),\n",
    "            Path(config.tensorboard_root_log_dir)\n",
    "        ])\n",
    "        \n",
    "        prepare_callback_config = PrepareCallbackConfig(\n",
    "            root_dir=Path(config.root_dir),\n",
    "            tensorboard_root_log_dir=Path(config.tensorboard_root_log_dir),\n",
    "            checkpoint_model_filepath=Path(config.checkpoint_model_filepath)\n",
    "        )\n",
    "        \n",
    "        return prepare_callback_config\n",
    "        \n",
    "    def get_training_config(self) -> TrainingConfig:\n",
    "        training = self.config.training\n",
    "        prepare_base_model = self.config.prepare_base_model\n",
    "        params = self.params\n",
    "        training_data=os.path.join(self.config.data_ingestion.unzip_dir, \"chest_xray\\chest_xray\\\\test\")\n",
    "        create_directories([\n",
    "            Path(training.root_dir)\n",
    "        ])\n",
    "        \n",
    "        training_config=TrainingConfig(\n",
    "            root_dir=Path(training.root_dir),\n",
    "            trained_model_path=Path(training.trained_model_path),\n",
    "            updated_base_model_path=Path(prepare_base_model.updated_base_model_path),\n",
    "            training_data=Path(training_data),\n",
    "            params_epochs=params.EPOCHS,\n",
    "            params_batch_size=params.BATCH_SIZE,\n",
    "            params_is_augmentation=params.AUGMENTATION,\n",
    "            params_image_size=params.IMAGE_SIZE,\n",
    "            params_label=params.LABELS,\n",
    "            params_class_weights=params.CLASS_WEIGHTS\n",
    "        )\n",
    "        \n",
    "        return training_config\n",
    "    "
   ]
  },
  {
   "cell_type": "code",
   "execution_count": 22,
   "metadata": {},
   "outputs": [],
   "source": [
    "import os\n",
    "import time\n",
    "from urllib import request\n",
    "from zipfile import ZipFile\n",
    "from xray import logger\n",
    "from xray.utils.common import get_size\n",
    "import tensorflow as tf"
   ]
  },
  {
   "cell_type": "code",
   "execution_count": 23,
   "metadata": {},
   "outputs": [],
   "source": [
    "class PrepareCallback:\n",
    "    def __init__(self, config: PrepareCallbackConfig):\n",
    "        self.config = config\n",
    "        \n",
    "    \n",
    "    @property\n",
    "    def _create_tb_callbacks(self):\n",
    "        timestamp = time.strftime(\"%Y-%m-%d-%H-%M-%S\")\n",
    "        tb_running_log_dir = os.path.join(\n",
    "            self.config.tensorboard_root_log_dir,\n",
    "            f\"tb_logs_at_{timestamp}\",\n",
    "        )\n",
    "        return tf.keras.callbacks.TensorBoard(log_dir=tb_running_log_dir)\n",
    "    \n",
    "    @property\n",
    "    def _create_ckpt_callbacks(self):\n",
    "        return tf.keras.callbacks.ModelCheckpoint(\n",
    "            filepath=self.config.checkpoint_model_filepath,\n",
    "            save_best_only=True\n",
    "        )\n",
    "    \n",
    "    @property\n",
    "    def _create_lr_reduction_callback(self):\n",
    "        return tf.keras.callbacks.ReduceLROnPlateau(\n",
    "            monitor='val_accuracy',\n",
    "            patience=2,\n",
    "            verbose=1,\n",
    "            factor=0.3,\n",
    "            min_lr=0.000001\n",
    "        )\n",
    "\n",
    "\n",
    "    def get_tb_ckpt_lr_callbacks(self):\n",
    "        return [\n",
    "            self._create_tb_callbacks,\n",
    "            self._create_ckpt_callbacks,\n",
    "            self._create_lr_reduction_callback\n",
    "        ]"
   ]
  },
  {
   "cell_type": "code",
   "execution_count": 24,
   "metadata": {},
   "outputs": [],
   "source": [
    "#training imports\n",
    "import os\n",
    "import urllib.request as request\n",
    "from zipfile import ZipFile\n",
    "import tensorflow as tf\n",
    "import time"
   ]
  },
  {
   "cell_type": "code",
   "execution_count": 25,
   "metadata": {},
   "outputs": [
    {
     "data": {
      "text/plain": [
       "'class Training:\\n    def __init__(self, config: TrainingConfig) -> None:\\n        self.config = config\\n        \\n    def get_base_model(self):\\n        self.model = tf.keras.models.load_model(\\n            self.config.updated_base_model_path\\n        )\\n    \\n    def train_valid_generator(self):\\n\\n        datagenerator_kwargs = dict(\\n            rescale = 1./255,\\n            validation_split=0.20\\n        )\\n\\n        dataflow_kwargs = dict(\\n            target_size=self.config.params_image_size,\\n            batch_size=self.config.params_batch_size,\\n            interpolation=\"bilinear\"\\n        )\\n\\n        valid_datagenerator = tf.keras.preprocessing.image.ImageDataGenerator(\\n            **datagenerator_kwargs\\n        )\\n\\n        self.valid_generator = valid_datagenerator.flow_from_directory(\\n            directory=self.config.training_data,\\n            subset=\"validation\",\\n            shuffle=False,\\n            **dataflow_kwargs\\n        )\\n\\n        if self.config.params_is_augmentation:\\n            train_datagenerator = tf.keras.preprocessing.image.ImageDataGenerator(\\n                rotation_range=40,\\n                horizontal_flip=True,\\n                width_shift_range=0.2,\\n                height_shift_range=0.2,\\n                shear_range=0.2,\\n                zoom_range=0.2,\\n                **datagenerator_kwargs\\n            )\\n        else:\\n            train_datagenerator = valid_datagenerator\\n\\n        self.train_generator = train_datagenerator.flow_from_directory(\\n            directory=self.config.training_data,\\n            subset=\"training\",\\n            shuffle=True,\\n            **dataflow_kwargs\\n        )\\n\\n    @staticmethod\\n    def save_model(path: Path, model: tf.keras.Model):\\n        model.save(path)\\n\\n\\n    def train(self, callback_list: list):\\n        self.steps_per_epoch = self.train_generator.samples // self.train_generator.batch_size\\n        self.validation_steps = self.valid_generator.samples // self.valid_generator.batch_size\\n\\n        self.model.fit(\\n            self.train_generator,\\n            epochs=self.config.params_epochs,\\n            steps_per_epoch=self.steps_per_epoch,\\n            validation_steps=self.validation_steps,\\n            validation_data=self.valid_generator,\\n            callbacks=callback_list\\n        )\\n\\n        self.save_model(\\n            path=self.config.trained_model_path,\\n            model=self.model\\n        )'"
      ]
     },
     "execution_count": 25,
     "metadata": {},
     "output_type": "execute_result"
    }
   ],
   "source": [
    "\"\"\"class Training:\n",
    "    def __init__(self, config: TrainingConfig) -> None:\n",
    "        self.config = config\n",
    "        \n",
    "    def get_base_model(self):\n",
    "        self.model = tf.keras.models.load_model(\n",
    "            self.config.updated_base_model_path\n",
    "        )\n",
    "    \n",
    "    def train_valid_generator(self):\n",
    "\n",
    "        datagenerator_kwargs = dict(\n",
    "            rescale = 1./255,\n",
    "            validation_split=0.20\n",
    "        )\n",
    "\n",
    "        dataflow_kwargs = dict(\n",
    "            target_size=self.config.params_image_size,\n",
    "            batch_size=self.config.params_batch_size,\n",
    "            interpolation=\"bilinear\"\n",
    "        )\n",
    "\n",
    "        valid_datagenerator = tf.keras.preprocessing.image.ImageDataGenerator(\n",
    "            **datagenerator_kwargs\n",
    "        )\n",
    "\n",
    "        self.valid_generator = valid_datagenerator.flow_from_directory(\n",
    "            directory=self.config.training_data,\n",
    "            subset=\"validation\",\n",
    "            shuffle=False,\n",
    "            **dataflow_kwargs\n",
    "        )\n",
    "\n",
    "        if self.config.params_is_augmentation:\n",
    "            train_datagenerator = tf.keras.preprocessing.image.ImageDataGenerator(\n",
    "                rotation_range=40,\n",
    "                horizontal_flip=True,\n",
    "                width_shift_range=0.2,\n",
    "                height_shift_range=0.2,\n",
    "                shear_range=0.2,\n",
    "                zoom_range=0.2,\n",
    "                **datagenerator_kwargs\n",
    "            )\n",
    "        else:\n",
    "            train_datagenerator = valid_datagenerator\n",
    "\n",
    "        self.train_generator = train_datagenerator.flow_from_directory(\n",
    "            directory=self.config.training_data,\n",
    "            subset=\"training\",\n",
    "            shuffle=True,\n",
    "            **dataflow_kwargs\n",
    "        )\n",
    "\n",
    "    @staticmethod\n",
    "    def save_model(path: Path, model: tf.keras.Model):\n",
    "        model.save(path)\n",
    "\n",
    "\n",
    "    def train(self, callback_list: list):\n",
    "        self.steps_per_epoch = self.train_generator.samples // self.train_generator.batch_size\n",
    "        self.validation_steps = self.valid_generator.samples // self.valid_generator.batch_size\n",
    "\n",
    "        self.model.fit(\n",
    "            self.train_generator,\n",
    "            epochs=self.config.params_epochs,\n",
    "            steps_per_epoch=self.steps_per_epoch,\n",
    "            validation_steps=self.validation_steps,\n",
    "            validation_data=self.valid_generator,\n",
    "            callbacks=callback_list\n",
    "        )\n",
    "\n",
    "        self.save_model(\n",
    "            path=self.config.trained_model_path,\n",
    "            model=self.model\n",
    "        )\"\"\""
   ]
  },
  {
   "cell_type": "code",
   "execution_count": 26,
   "metadata": {},
   "outputs": [],
   "source": [
    "import numpy as np\n",
    "import cv2\n",
    "from pathlib import Path\n",
    "import tensorflow as tf\n",
    "from keras.models import Sequential\n",
    "from keras.layers import Conv2D, MaxPool2D, Dense, Dropout, BatchNormalization, Flatten\n",
    "from keras.preprocessing.image import ImageDataGenerator\n",
    "from keras.callbacks import ReduceLROnPlateau"
   ]
  },
  {
   "cell_type": "code",
   "execution_count": 27,
   "metadata": {},
   "outputs": [],
   "source": [
    "class Training:\n",
    "    def __init__(self, config: TrainingConfig) -> None:\n",
    "        self.config = config\n",
    "        \n",
    "    def get_training_data(self, data_dir):\n",
    "        image_size = self.config.params_image_size\n",
    "        labels = self.config.params_label\n",
    "        data = []\n",
    "        for label in labels:\n",
    "            path = os.path.join(data_dir, label)\n",
    "            class_num = labels.index(label)\n",
    "            \n",
    "            for image in os.listdir(path):\n",
    "                try:\n",
    "                    img_array = cv2.imread(os.path.join(path,image))\n",
    "        \n",
    "                    resized_arr = cv2.resize(img_array, (image_size, image_size))\n",
    "                    data.append([resized_arr, class_num])\n",
    "                except Exception as e:\n",
    "                    print(e)\n",
    "                    \n",
    "        return np.array(data)\n",
    "    \n",
    "    def process_data(self):\n",
    "        train_data = self.get_training_data('artifacts/data_ingestion/chest_xray/chest_xray/train')\n",
    "        test_data = self.get_training_data('artifacts/data_ingestion/chest_xray/chest_xray/test')\n",
    "        val_data = self.get_training_data('artifacts/data_ingestion/chest_xray/chest_xray/val')\n",
    "\n",
    "        X_train, y_train = self.process_data_helper(train_data)\n",
    "        X_test, y_test = self.process_data_helper(test_data)\n",
    "        X_val, y_val = self.process_data_helper(val_data)\n",
    "\n",
    "        X_train = X_train / 255\n",
    "        X_test = X_test / 255\n",
    "        X_val = X_val / 255\n",
    "\n",
    "        y_train = y_train.reshape(-1, 1)\n",
    "        y_test = y_test.reshape(-1, 1)\n",
    "        y_val = y_val.reshape(-1, 1)\n",
    "\n",
    "        return X_train, y_train, X_test, y_test, X_val, y_val\n",
    "\n",
    "    def process_data_helper(self, data):\n",
    "        X = []\n",
    "        y = []\n",
    "        for array, label in data:\n",
    "            X.append(array)\n",
    "            y.append(label)\n",
    "        return np.array(X), np.array(y)\n",
    "    \n",
    "    def data_augmentation(self, X_train):\n",
    "        train_aug = ImageDataGenerator(\n",
    "            featurewise_center=False,\n",
    "            samplewise_center=False,\n",
    "            featurewise_std_normalization=False,\n",
    "            samplewise_std_normalization=False,\n",
    "            zca_whitening=False,\n",
    "            rotation_range=30,\n",
    "            zoom_range=0.2,\n",
    "            width_shift_range=0.1,\n",
    "            height_shift_range=0.1,\n",
    "            horizontal_flip=True,\n",
    "            vertical_flip=False\n",
    "        )\n",
    "        train_aug.fit(X_train)\n",
    "        return train_aug\n",
    "    \n",
    "    def build_model(self):\n",
    "        image_size = self.config.params_image_size\n",
    "        model = Sequential()\n",
    "        model.add(Conv2D(32 , (3,3) , strides=1 , padding='same' , activation='relu' , input_shape=(image_size, image_size, 3)))\n",
    "        model.add(BatchNormalization())\n",
    "        model.add(MaxPool2D((2,2) , strides=2 , padding='same'))\n",
    "        model.add(Conv2D(64 , (3,3) , strides=1 , padding='same' , activation='relu'))\n",
    "        model.add(Dropout(0.1))\n",
    "        model.add(BatchNormalization())\n",
    "        model.add(MaxPool2D((2,2) , strides=2 , padding='same'))\n",
    "        model.add(Conv2D(64 , (3,3) , strides=1 , padding='same' , activation='relu'))\n",
    "        model.add(BatchNormalization())\n",
    "        model.add(MaxPool2D((2,2) , strides=2 , padding='same'))\n",
    "        model.add(Conv2D(128 , (3,3) , strides=1 , padding='same' , activation='relu'))\n",
    "        model.add(Dropout(0.2))\n",
    "        model.add(BatchNormalization())\n",
    "        model.add(MaxPool2D((2,2) , strides=2 , padding='same'))\n",
    "        model.add(Conv2D(256 , (3,3) , strides=1 , padding='same' , activation='relu'))\n",
    "        model.add(Dropout(0.2))\n",
    "        model.add(BatchNormalization())\n",
    "        model.add(MaxPool2D((2,2) , strides=2 , padding='same'))\n",
    "        model.add(Flatten())\n",
    "        model.add(Dense(units=128 , activation='relu'))\n",
    "        model.add(Dropout(0.2))\n",
    "        model.add(Dense(units=1 , activation='sigmoid'))\n",
    "        model.compile(optimizer=\"adam\" , loss='binary_crossentropy' , metrics=['accuracy'])\n",
    "        return model\n",
    "    \n",
    "    @staticmethod\n",
    "    def save_model(path: Path, model: tf.keras.Model):\n",
    "        model.save(path)\n",
    "        \n",
    "    def train_model(self, model, X_train, y_train, X_val, y_val, callback_list: list):\n",
    "        class_weights =  {0:0.4, 1:1.0}\n",
    "        epochs = self.config.params_epochs\n",
    "        batch_size = self.config.params_batch_size\n",
    "\n",
    "        train_aug = self.data_augmentation(X_train)\n",
    "\n",
    "        history = model.fit(train_aug.flow(X_train, y_train, batch_size=batch_size), \n",
    "                            epochs=epochs,\n",
    "                            validation_data=(train_aug.flow(X_val, y_val)),\n",
    "                            class_weight=class_weights,\n",
    "                            callbacks=callback_list)\n",
    "\n",
    "        # Save the trained model\n",
    "        self.save_model(path=self.config.trained_model_path, model=model)\n",
    "\n",
    "        return history"
   ]
  },
  {
   "cell_type": "code",
   "execution_count": 28,
   "metadata": {},
   "outputs": [
    {
     "name": "stdout",
     "output_type": "stream",
     "text": [
      "[2023-07-22 19:10:30,290: INFO: common: yaml file: config\\config.yaml loaded successfully]\n",
      "[2023-07-22 19:10:30,305: INFO: common: yaml file: params.yaml loaded successfully]\n",
      "[2023-07-22 19:10:30,307: INFO: common: created directory at: artifacts]\n",
      "[2023-07-22 19:10:30,315: INFO: common: created directory at: artifacts\\prepare_callbacks\\checkpoint_dir]\n",
      "[2023-07-22 19:10:30,317: INFO: common: created directory at: artifacts\\prepare_callbacks\\tensorboard_log_dir]\n",
      "[2023-07-22 19:10:30,333: INFO: common: created directory at: artifacts\\training]\n"
     ]
    },
    {
     "name": "stdout",
     "output_type": "stream",
     "text": [
      "OpenCV(4.8.0) D:\\a\\opencv-python\\opencv-python\\opencv\\modules\\imgproc\\src\\resize.cpp:4062: error: (-215:Assertion failed) !ssize.empty() in function 'cv::resize'\n",
      "\n",
      "OpenCV(4.8.0) D:\\a\\opencv-python\\opencv-python\\opencv\\modules\\imgproc\\src\\resize.cpp:4062: error: (-215:Assertion failed) !ssize.empty() in function 'cv::resize'\n",
      "\n"
     ]
    },
    {
     "name": "stderr",
     "output_type": "stream",
     "text": [
      "C:\\Users\\Sandesh Pargaonkar\\AppData\\Local\\Temp\\ipykernel_16968\\2898944451.py:22: VisibleDeprecationWarning: Creating an ndarray from ragged nested sequences (which is a list-or-tuple of lists-or-tuples-or ndarrays with different lengths or shapes) is deprecated. If you meant to do this, you must specify 'dtype=object' when creating the ndarray.\n",
      "  return np.array(data)\n"
     ]
    },
    {
     "name": "stdout",
     "output_type": "stream",
     "text": [
      "OpenCV(4.8.0) D:\\a\\opencv-python\\opencv-python\\opencv\\modules\\imgproc\\src\\resize.cpp:4062: error: (-215:Assertion failed) !ssize.empty() in function 'cv::resize'\n",
      "\n",
      "OpenCV(4.8.0) D:\\a\\opencv-python\\opencv-python\\opencv\\modules\\imgproc\\src\\resize.cpp:4062: error: (-215:Assertion failed) !ssize.empty() in function 'cv::resize'\n",
      "\n"
     ]
    },
    {
     "ename": "ValueError",
     "evalue": "Expected `class_weight` to be a dict with keys from 0 to one less than the number of classes, found {0.4: None, 61.0: None}",
     "output_type": "error",
     "traceback": [
      "\u001b[1;31m---------------------------------------------------------------------------\u001b[0m",
      "\u001b[1;31mValueError\u001b[0m                                Traceback (most recent call last)",
      "Cell \u001b[1;32mIn[28], line 27\u001b[0m\n\u001b[0;32m     23\u001b[0m     training\u001b[39m.\u001b[39msave_model(path\u001b[39m=\u001b[39mtraining_config\u001b[39m.\u001b[39mtrained_model_path, model\u001b[39m=\u001b[39mmodel)\n\u001b[0;32m     26\u001b[0m \u001b[39mexcept\u001b[39;00m \u001b[39mException\u001b[39;00m \u001b[39mas\u001b[39;00m e:\n\u001b[1;32m---> 27\u001b[0m     \u001b[39mraise\u001b[39;00m e\n",
      "Cell \u001b[1;32mIn[28], line 15\u001b[0m\n\u001b[0;32m     12\u001b[0m model \u001b[39m=\u001b[39m training\u001b[39m.\u001b[39mbuild_model()\n\u001b[0;32m     14\u001b[0m \u001b[39m# Train the Model\u001b[39;00m\n\u001b[1;32m---> 15\u001b[0m history \u001b[39m=\u001b[39m training\u001b[39m.\u001b[39;49mtrain_model(model, X_train, y_train, X_val, y_val, callback_list)\n\u001b[0;32m     17\u001b[0m \u001b[39m# Print Model Loss and Accuracy\u001b[39;00m\n\u001b[0;32m     18\u001b[0m loss, accuracy \u001b[39m=\u001b[39m model\u001b[39m.\u001b[39mevaluate(X_test, y_test)\n",
      "Cell \u001b[1;32mIn[27], line 107\u001b[0m, in \u001b[0;36mTraining.train_model\u001b[1;34m(self, model, X_train, y_train, X_val, y_val, callback_list)\u001b[0m\n\u001b[0;32m    103\u001b[0m batch_size \u001b[39m=\u001b[39m \u001b[39mself\u001b[39m\u001b[39m.\u001b[39mconfig\u001b[39m.\u001b[39mparams_batch_size\n\u001b[0;32m    105\u001b[0m train_aug \u001b[39m=\u001b[39m \u001b[39mself\u001b[39m\u001b[39m.\u001b[39mdata_augmentation(X_train)\n\u001b[1;32m--> 107\u001b[0m history \u001b[39m=\u001b[39m model\u001b[39m.\u001b[39;49mfit(train_aug\u001b[39m.\u001b[39;49mflow(X_train, y_train, batch_size\u001b[39m=\u001b[39;49mbatch_size), \n\u001b[0;32m    108\u001b[0m                     epochs\u001b[39m=\u001b[39;49mepochs,\n\u001b[0;32m    109\u001b[0m                     validation_data\u001b[39m=\u001b[39;49m(train_aug\u001b[39m.\u001b[39;49mflow(X_val, y_val)),\n\u001b[0;32m    110\u001b[0m                     class_weight\u001b[39m=\u001b[39;49mclass_weights,\n\u001b[0;32m    111\u001b[0m                     callbacks\u001b[39m=\u001b[39;49mcallback_list)\n\u001b[0;32m    113\u001b[0m \u001b[39m# Save the trained model\u001b[39;00m\n\u001b[0;32m    114\u001b[0m \u001b[39mself\u001b[39m\u001b[39m.\u001b[39msave_model(path\u001b[39m=\u001b[39m\u001b[39mself\u001b[39m\u001b[39m.\u001b[39mconfig\u001b[39m.\u001b[39mtrained_model_path, model\u001b[39m=\u001b[39mmodel)\n",
      "File \u001b[1;32mc:\\Users\\Sandesh Pargaonkar\\Anaconda3\\envs\\xray\\Lib\\site-packages\\keras\\utils\\traceback_utils.py:70\u001b[0m, in \u001b[0;36mfilter_traceback.<locals>.error_handler\u001b[1;34m(*args, **kwargs)\u001b[0m\n\u001b[0;32m     67\u001b[0m     filtered_tb \u001b[39m=\u001b[39m _process_traceback_frames(e\u001b[39m.\u001b[39m__traceback__)\n\u001b[0;32m     68\u001b[0m     \u001b[39m# To get the full stack trace, call:\u001b[39;00m\n\u001b[0;32m     69\u001b[0m     \u001b[39m# `tf.debugging.disable_traceback_filtering()`\u001b[39;00m\n\u001b[1;32m---> 70\u001b[0m     \u001b[39mraise\u001b[39;00m e\u001b[39m.\u001b[39mwith_traceback(filtered_tb) \u001b[39mfrom\u001b[39;00m \u001b[39mNone\u001b[39;00m\n\u001b[0;32m     71\u001b[0m \u001b[39mfinally\u001b[39;00m:\n\u001b[0;32m     72\u001b[0m     \u001b[39mdel\u001b[39;00m filtered_tb\n",
      "File \u001b[1;32mc:\\Users\\Sandesh Pargaonkar\\Anaconda3\\envs\\xray\\Lib\\site-packages\\keras\\engine\\data_adapter.py:1607\u001b[0m, in \u001b[0;36m_make_class_weight_map_fn\u001b[1;34m(class_weight)\u001b[0m\n\u001b[0;32m   1602\u001b[0m \u001b[39mif\u001b[39;00m class_ids \u001b[39m!=\u001b[39m expected_class_ids:\n\u001b[0;32m   1603\u001b[0m     error_msg \u001b[39m=\u001b[39m (\n\u001b[0;32m   1604\u001b[0m         \u001b[39m\"\u001b[39m\u001b[39mExpected `class_weight` to be a dict with keys from 0 to one less \u001b[39m\u001b[39m\"\u001b[39m\n\u001b[0;32m   1605\u001b[0m         \u001b[39m\"\u001b[39m\u001b[39mthan the number of classes, found \u001b[39m\u001b[39m{}\u001b[39;00m\u001b[39m\"\u001b[39m\n\u001b[0;32m   1606\u001b[0m     )\u001b[39m.\u001b[39mformat(class_weight)\n\u001b[1;32m-> 1607\u001b[0m     \u001b[39mraise\u001b[39;00m \u001b[39mValueError\u001b[39;00m(error_msg)\n\u001b[0;32m   1609\u001b[0m class_weight_tensor \u001b[39m=\u001b[39m tf\u001b[39m.\u001b[39mconvert_to_tensor(\n\u001b[0;32m   1610\u001b[0m     [class_weight[\u001b[39mint\u001b[39m(c)] \u001b[39mfor\u001b[39;00m c \u001b[39min\u001b[39;00m class_ids]\n\u001b[0;32m   1611\u001b[0m )\n\u001b[0;32m   1613\u001b[0m \u001b[39mdef\u001b[39;00m \u001b[39m_class_weights_map_fn\u001b[39m(\u001b[39m*\u001b[39mdata):\n",
      "\u001b[1;31mValueError\u001b[0m: Expected `class_weight` to be a dict with keys from 0 to one less than the number of classes, found {0.4: None, 61.0: None}"
     ]
    }
   ],
   "source": [
    "try:\n",
    "    config = ConfigurationManager()\n",
    "    prepare_callbacks_config = config.get_prepare_callback_config()\n",
    "    prepare_callbacks = PrepareCallback(config=prepare_callbacks_config)\n",
    "    callback_list = prepare_callbacks.get_tb_ckpt_lr_callbacks()\n",
    "    \n",
    "    # Training\n",
    "    training_config = config.get_training_config()\n",
    "    training = Training(config=training_config)\n",
    "    X_train, y_train, X_test, y_test, X_val, y_val = training.process_data()\n",
    "\n",
    "    model = training.build_model()\n",
    "\n",
    "    # Train the Model\n",
    "    history = training.train_model(model, X_train, y_train, X_val, y_val, callback_list)\n",
    "\n",
    "    # Print Model Loss and Accuracy\n",
    "    loss, accuracy = model.evaluate(X_test, y_test)\n",
    "    print(\"Loss of the model is -\", loss)\n",
    "    print(\"Accuracy of the model is -\", accuracy * 100, \"%\")\n",
    "\n",
    "    # Save the Trained Model\n",
    "    training.save_model(path=training_config.trained_model_path, model=model)\n",
    "\n",
    "    \n",
    "except Exception as e:\n",
    "    raise e"
   ]
  },
  {
   "cell_type": "code",
   "execution_count": null,
   "metadata": {},
   "outputs": [
    {
     "data": {
      "text/plain": [
       "' config = ConfigurationManager()\\n    prepare_base_model_config = config.get_prepare_base_model_config()\\n    prepare_base_model = PrepareBaseModel(config= prepare_base_model_config)\\n    prepare_base_model.get_base_model()\\n    prepare_base_model.update_base_model()\\n    #training & callback\\n    config = ConfigurationManager()\\n    prepare_callbacks_config = config.get_prepare_callback_config()\\n    prepare_callbacks = PrepareCallback(config=prepare_callbacks_config)\\n    callback_list = prepare_callbacks.get_tb_ckpt_callbacks()\\n\\n    config = ConfigurationManager()\\n    training_config = config.get_training_config()\\n    training = Training(config=training_config)\\n    training.get_base_model()\\n    training.train_valid_generator()\\n    training.train(\\n        callback_list=callback_list\\n    )\\n    \\nexcept Exception as e:\\n    raise e'"
      ]
     },
     "execution_count": 17,
     "metadata": {},
     "output_type": "execute_result"
    }
   ],
   "source": [
    "\"\"\"try:\n",
    "    config = ConfigurationManager()\n",
    "    data_ingestion_config = config.get_data_ingestion_config()\n",
    "    data_ingestion = DataIngestion(config=data_ingestion_config)\n",
    "    data_ingestion.download_file()\n",
    "    data_ingestion.extract_zip_file()\"\"\"\n",
    "    #prepare base model\n",
    "\"\"\" config = ConfigurationManager()\n",
    "    prepare_base_model_config = config.get_prepare_base_model_config()\n",
    "    prepare_base_model = PrepareBaseModel(config= prepare_base_model_config)\n",
    "    prepare_base_model.get_base_model()\n",
    "    prepare_base_model.update_base_model()\n",
    "    #training & callback\n",
    "    config = ConfigurationManager()\n",
    "    prepare_callbacks_config = config.get_prepare_callback_config()\n",
    "    prepare_callbacks = PrepareCallback(config=prepare_callbacks_config)\n",
    "    callback_list = prepare_callbacks.get_tb_ckpt_callbacks()\n",
    "\n",
    "    config = ConfigurationManager()\n",
    "    training_config = config.get_training_config()\n",
    "    training = Training(config=training_config)\n",
    "    training.get_base_model()\n",
    "    training.train_valid_generator()\n",
    "    training.train(\n",
    "        callback_list=callback_list\n",
    "    )\n",
    "    \n",
    "except Exception as e:\n",
    "    raise e\"\"\""
   ]
  }
 ],
 "metadata": {
  "kernelspec": {
   "display_name": "xray",
   "language": "python",
   "name": "python3"
  },
  "language_info": {
   "codemirror_mode": {
    "name": "ipython",
    "version": 3
   },
   "file_extension": ".py",
   "mimetype": "text/x-python",
   "name": "python",
   "nbconvert_exporter": "python",
   "pygments_lexer": "ipython3",
   "version": "3.11.3"
  },
  "orig_nbformat": 4
 },
 "nbformat": 4,
 "nbformat_minor": 2
}
